{
 "cells": [
  {
   "cell_type": "code",
   "execution_count": 1,
   "metadata": {},
   "outputs": [
    {
     "name": "stdout",
     "output_type": "stream",
     "text": [
      "package 'TeachingDemos' successfully unpacked and MD5 sums checked\n",
      "\n",
      "The downloaded binary packages are in\n",
      "\tC:\\Users\\12482\\AppData\\Local\\Temp\\RtmpKMrcnc\\downloaded_packages\n"
     ]
    }
   ],
   "source": [
    "install.packages(\"TeachingDemos\")"
   ]
  },
  {
   "cell_type": "code",
   "execution_count": 2,
   "metadata": {},
   "outputs": [
    {
     "name": "stderr",
     "output_type": "stream",
     "text": [
      "Warning message:\n",
      "\"package 'TeachingDemos' was built under R version 3.6.3\"Warning message:\n",
      "\"package 'dplyr' was built under R version 3.6.3\"\n",
      "Attaching package: 'dplyr'\n",
      "\n",
      "The following objects are masked from 'package:stats':\n",
      "\n",
      "    filter, lag\n",
      "\n",
      "The following objects are masked from 'package:base':\n",
      "\n",
      "    intersect, setdiff, setequal, union\n",
      "\n"
     ]
    }
   ],
   "source": [
    "library(TeachingDemos) \n",
    "library(dplyr)\n",
    "df <- read.csv(\"data.csv\", header=TRUE, stringsAsFactors=FALSE)"
   ]
  },
  {
   "cell_type": "code",
   "execution_count": 3,
   "metadata": {},
   "outputs": [
    {
     "name": "stdout",
     "output_type": "stream",
     "text": [
      "'data.frame':\t41710 obs. of  24 variables:\n",
      " $ ï..playerID: chr  \"aardsda01\" \"aardsda01\" \"aardsda01\" \"aardsda01\" ...\n",
      " $ yearID     : int  2004 2006 2007 2008 2009 2010 2012 2013 2015 1990 ...\n",
      " $ stint      : int  1 1 1 1 1 1 1 1 1 1 ...\n",
      " $ teamID     : chr  \"SFN\" \"CHN\" \"CHA\" \"BOS\" ...\n",
      " $ lgID       : chr  \"NL\" \"NL\" \"AL\" \"AL\" ...\n",
      " $ G          : int  11 45 25 47 73 53 1 43 33 32 ...\n",
      " $ G_batting  : logi  NA NA NA NA NA NA ...\n",
      " $ AB         : int  0 2 0 1 0 0 0 0 1 0 ...\n",
      " $ R          : int  0 0 0 0 0 0 0 0 0 0 ...\n",
      " $ H          : int  0 0 0 0 0 0 0 0 0 0 ...\n",
      " $ X2B        : int  0 0 0 0 0 0 0 0 0 0 ...\n",
      " $ X3B        : int  0 0 0 0 0 0 0 0 0 0 ...\n",
      " $ HR         : int  0 0 0 0 0 0 0 0 0 0 ...\n",
      " $ RBI        : int  0 0 0 0 0 0 0 0 0 0 ...\n",
      " $ SB         : int  0 0 0 0 0 0 0 0 0 0 ...\n",
      " $ CS         : int  0 0 0 0 0 0 0 0 0 0 ...\n",
      " $ BB         : int  0 0 0 0 0 0 0 0 0 0 ...\n",
      " $ SO         : int  0 0 0 1 0 0 0 0 1 0 ...\n",
      " $ IBB        : int  0 0 0 0 0 0 0 0 0 0 ...\n",
      " $ HBP        : int  0 0 0 0 0 0 0 0 0 0 ...\n",
      " $ SH         : int  0 1 0 0 0 0 0 0 0 0 ...\n",
      " $ SF         : int  0 0 0 0 0 0 0 0 0 0 ...\n",
      " $ GIDP       : int  0 0 0 0 0 0 0 0 0 0 ...\n",
      " $ G_old      : logi  NA NA NA NA NA NA ...\n"
     ]
    }
   ],
   "source": [
    "str(df)"
   ]
  },
  {
   "cell_type": "code",
   "execution_count": 4,
   "metadata": {},
   "outputs": [],
   "source": [
    "df = df[which(df$stint ==1), ]   "
   ]
  },
  {
   "cell_type": "code",
   "execution_count": 5,
   "metadata": {},
   "outputs": [],
   "source": [
    "df = df %>% group_by(ï..playerID)"
   ]
  },
  {
   "cell_type": "code",
   "execution_count": 6,
   "metadata": {},
   "outputs": [],
   "source": [
    "df$BattingAvg = df$H/df$AB"
   ]
  },
  {
   "cell_type": "code",
   "execution_count": 7,
   "metadata": {},
   "outputs": [],
   "source": [
    "df = df[which(df$BattingAvg >=.001), ]   "
   ]
  },
  {
   "cell_type": "code",
   "execution_count": 8,
   "metadata": {},
   "outputs": [],
   "source": [
    "df = df[which(df$G >=100), ]   "
   ]
  },
  {
   "cell_type": "code",
   "execution_count": 9,
   "metadata": {},
   "outputs": [
    {
     "data": {
      "image/png": "[encoded data removed]",
      "text/plain": [
       "Plot with title \"Histogram of Batting Averages\""
      ]
     },
     "metadata": {},
     "output_type": "display_data"
    }
   ],
   "source": [
    "hist(df$BattingAvg,xlab = \"Batting Average\",ylab = \"Frequency\", main = \"Histogram of Batting Averages\")"
   ]
  },
  {
   "cell_type": "code",
   "execution_count": 10,
   "metadata": {},
   "outputs": [],
   "source": [
    "df_NL = df[which(df$lgID == \"NL\"), ]   \n",
    "df_AL = df[which(df$lgID == \"AL\"), ]   "
   ]
  },
  {
   "cell_type": "code",
   "execution_count": 11,
   "metadata": {},
   "outputs": [],
   "source": [
    "mu_o = mean(df_AL$BattingAvg)\n",
    "standard_dev=sd(df_AL$BattingAvg)"
   ]
  },
  {
   "cell_type": "code",
   "execution_count": 12,
   "metadata": {},
   "outputs": [
    {
     "name": "stdout",
     "output_type": "stream",
     "text": [
      "[1] 3736\n",
      "[1] 3470\n"
     ]
    }
   ],
   "source": [
    "print(sum(count(df_NL)$n))\n",
    "print(sum(count(df_AL)$n))\n"
   ]
  },
  {
   "cell_type": "code",
   "execution_count": 14,
   "metadata": {},
   "outputs": [
    {
     "data": {
      "text/plain": [
       "\n",
       "\tOne Sample z-test\n",
       "\n",
       "data:  df_NL$BattingAvg\n",
       "z = 1.0428, n = 3.7360e+03, Std. Dev. = 3.0067e-02, Std. Dev. of the\n",
       "sample mean = 4.9192e-04, p-value = 0.1485\n",
       "alternative hypothesis: true mean is greater than 0.2697366\n",
       "95 percent confidence interval:\n",
       " 0.2694404       Inf\n",
       "sample estimates:\n",
       "mean of df_NL$BattingAvg \n",
       "               0.2702496 \n"
      ]
     },
     "metadata": {},
     "output_type": "display_data"
    }
   ],
   "source": [
    "z.test(df_NL$BattingAvg, y = NULL, alternative = \"greater\", mu = mu_o, stdev=standard_dev) "
   ]
  },
  {
   "cell_type": "code",
   "execution_count": 15,
   "metadata": {},
   "outputs": [],
   "source": [
    "n <- sum(count(df)$n) \n",
    "xbar <- mean(df$BattingAvg) \n",
    "s <- sd(df$BattingAvg)\n",
    "margin <- qt(0.975,df=n-1)*s/sqrt(n)\n",
    "lowerinterval <- xbar - margin\n",
    "upperinterval <- xbar + margin\n"
   ]
  },
  {
   "cell_type": "code",
   "execution_count": 16,
   "metadata": {},
   "outputs": [
    {
     "name": "stdout",
     "output_type": "stream",
     "text": [
      "[1] 0.2693089\n",
      "[1] 0.2706962\n"
     ]
    }
   ],
   "source": [
    "print(lowerinterval)\n",
    "print(upperinterval)"
   ]
  },
  {
   "cell_type": "code",
   "execution_count": null,
   "metadata": {},
   "outputs": [],
   "source": []
  }
 ],
 "metadata": {
  "kernelspec": {
   "display_name": "R",
   "language": "R",
   "name": "ir"
  },
  "language_info": {
   "codemirror_mode": "r",
   "file_extension": ".r",
   "mimetype": "text/x-r-source",
   "name": "R",
   "pygments_lexer": "r",
   "version": "3.6.1"
  }
 },
 "nbformat": 4,
 "nbformat_minor": 2
}
